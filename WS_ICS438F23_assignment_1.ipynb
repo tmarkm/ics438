{
 "cells": [
  {
   "cell_type": "markdown",
   "id": "1f64bfec",
   "metadata": {},
   "source": [
    "# Assignment 1\n"
   ]
  },
  {
   "cell_type": "markdown",
   "id": "1ae8cf7a",
   "metadata": {},
   "source": [
    "## PART 1:  Manipulating JSON Data from Food Fact Database to Extract Key Information\n",
    "\n",
    "This assignment focuses on handling a large dataset from the [Open Food Facts database](https://world.openfoodfacts.org/), which describes itself as:\n",
    "\n",
    "```\n",
    "[...] a food products database made by everyone, for everyone. You can use it to make better food choices, and as it is open data, anyone can re-use it for any purpose.\n",
    "```\n",
    "\n",
    "This first assignment is not heavy on analytics. Instead, it is designed to give you a taste of the challenges that come with handling large data files — long download times, limited storage, and slow data processing. While these inconveniences are minor in this assignment, they are just the tip of the iceberg when it comes to real-world big data analytics tasks.\n",
    "\n",
    "\n",
    "Our dataset, which can be obtained [here](https://static.openfoodfacts.org/data/openfoodfacts-products.jsonl.gz), consists of a JSONL file, which contains 3 million products, each with hundreds or even thousands of fields.  For example, you can refer to the data of one such product from the URL [here](https://world.openfoodfacts.org/api/v0/product/5060292302201.json), which contians 1304 fields.\n",
    "\n",
    "We are only interested in top 5 ingredients used in each of the products. Therefore, the primary objective is to parse each JSONL object and extract specific fields of interest: the product code, its description, and the details of its five most prevalent ingredients. You will then save this filtered information in a TSV (Tab-Separated Values) file.\n",
    "\n",
    "\n",
    "\n",
    "### Relevance to Big Data Analytics\n",
    "\n",
    "Though this assignment might not involve high-level data science techniques, it's fundamentally crucial for big data analytics. It teaches you how to handle, manipulate, and filter large datasets, which are essential skills you'll need before moving on to more complex operations in analytics.\n",
    "\n",
    "## Detailed Requirements\n"
   ]
  },
  {
   "cell_type": "markdown",
   "id": "bac36bfa",
   "metadata": {},
   "source": [
    "## Working with a Sample Product: How to Extract Fields of Interest\n",
    "\n",
    "To give you a hands-on example, let's look at a sample product and see how to extract the fields we care about.\n",
    "\n",
    "1. **Downloading the Sample Product Data:**  \n",
    "\tStart by downloading the JSON file for a specific product using the `wget` command.  \n",
    "\t```bash\n",
    "\t\t!wget https://world.openfoodfacts.org/api/v0/product/5060292302201.json\n",
    "\t```\n",
    "\n",
    "2. **Reading the Product Info:**  \n",
    "\tNext, use Python's `json` library to read this file.  \n",
    "\t```python\n",
    "\t\timport json\n",
    "\t\tproduct_info = json.loads(open(\"./5060292302201.json\").read())\n",
    "\t```\n",
    "\n",
    "3. **Getting the Product ID:**  \n",
    "\tYou can find the product ID for the sample item like this:  \n",
    "\t```python\n",
    "\t\tproduct_id = product_info['code']\n",
    "\t```\n",
    "\tThis will return `'5060292302201'`.\n",
    "\n",
    "4. **Getting the Product Name:**  \n",
    "\tThe product name can be accessed using the following code:  \n",
    "\t```python\n",
    "\t\tproduct_name = product_info['product']['product_name']\n",
    "\t```\n",
    "\n",
    "5. **Listing the Ingredients:**  \n",
    "\tTo get the list of ingredients for the product, use the code below:  \n",
    "\t```python\n",
    "\t\tingredients_list = product_info['product']['ingredients']\n",
    "\t```\n",
    "\tThis will return a list of dictionaries, each containing details about an ingredient. For example, the first two elements in the list look like this:\n",
    "\n",
    "\t```python\n",
    "\t\t[\n",
    "\t\t\t{\n",
    "\t\t\t\t'ciqual_food_code': '4003',\n",
    "\t\t\t\t'id': 'en:potato',\n",
    "\t\t\t\t'percent': 54,\n",
    "\t\t\t\t'percent_estimate': 54,\n",
    "\t\t\t\t'percent_max': 54,\n",
    "\t\t\t\t'percent_min': 54,\n",
    "\t\t\t\t'processing': 'en:dried',\n",
    "\t\t\t\t'rank': 1,\n",
    "\t\t\t\t'text': 'potatoes',\n",
    "\t\t\t\t'vegan': 'yes',\n",
    "\t\t\t\t'vegetarian': 'yes'\n",
    "\t\t\t},\n",
    "\t\t\t{\n",
    "\t\t\t\t'ciqual_food_code': '17440',\n",
    "\t\t\t\t'from_palm_oil': 'no',\n",
    "\t\t\t\t'id': 'en:sunflower-oil',\n",
    "\t\t\t\t'percent_estimate': 28.75,\n",
    "\t\t\t\t'percent_max': 46,\n",
    "\t\t\t\t'percent_min': 11.5,\n",
    "\t\t\t\t'rank': 2,\n",
    "\t\t\t\t'text': 'sunflower oil',\n",
    "\t\t\t\t'vegan': 'yes',\n",
    "\t\t\t\t'vegetarian': 'yes'\n",
    "\t\t\t}\n",
    "\t\t]\n",
    "\t```\n"
   ]
  },
  {
   "cell_type": "code",
   "execution_count": null,
   "id": "bad4e85f-f1de-48fa-a8ee-c32967bbf2f0",
   "metadata": {},
   "outputs": [],
   "source": [
    "# Load the test product file with !wget\n",
    "\n",
    "!wget https://world.openfoodfacts.org/api/v0/product/5060292302201.json"
   ]
  },
  {
   "cell_type": "code",
   "execution_count": null,
   "id": "be59071c-4ff4-478b-978f-9cf53a184237",
   "metadata": {},
   "outputs": [],
   "source": [
    "# Read file and create key file objects\n",
    "\n",
    "import json\n",
    "product_info = json.loads(open(\"./5060292302201.json\").read())\n",
    "product_total = product_info['product']\n",
    "product_ingredients = product_total['ingredients']"
   ]
  },
  {
   "cell_type": "markdown",
   "id": "56c74156",
   "metadata": {},
   "source": [
    "### Question 1.\n",
    "\n",
    "In this part of the assignment, you are tasked with identifying the top 5 ingredients by their `percent_estimate` field. You will display these ingredients in a table, sorted from the highest `percent_estimate` to the lowest. It turns out that ingredient have a rank field (see above). So, essentially we are only interested in  considering those ingredients whose `rank` field is 1, 2, 3, 4, or 5.\n",
    "\n",
    "#### Background on Functional Programming:\n",
    "\n",
    "We have discussed the importance of functional programming, as used in libraries such as Pandas, PyArrow, and, as we will see, pySpark. You can leverage this programming style in Python as well. Specifically, for this assignment, you will need to use the `filter` function to remove irrelevant ingredients from the list. \n",
    "\n",
    "\tThe `filter` function takes a list of elements and a function. It applies the function to each element in the list, keeping elements for which the function returns `True` and discarding those for which it returns `False`.\n",
    "\n",
    "##### Example:\n",
    "\n",
    "\tFor instance, let's say you want to filter out strings that have more than 4 characters. You could use the following code:\n"
   ]
  },
  {
   "cell_type": "code",
   "execution_count": null,
   "id": "8d1845a3",
   "metadata": {},
   "outputs": [],
   "source": [
    "some_values = [\"hi\", \"honolulu\", \"something\", \"by\", \"relevance\", \"ok\"]\n",
    "\n",
    "def filter_long_strs(x):\n",
    "    if len(x) <= 4:\n",
    "        return True\n",
    "    else:\n",
    "        return False\n",
    "\n",
    "output = filter(filter_long_strs, some_values)\n",
    "list(output)  # Output will be ['hi', 'by', 'ok']"
   ]
  },
  {
   "cell_type": "code",
   "execution_count": null,
   "id": "7dba0aa4-3fad-49af-a803-8c300481463c",
   "metadata": {},
   "outputs": [],
   "source": [
    "# Temp task 1\n",
    "\n",
    "def rank_filter(product_ingredients):\n",
    "    if type(product_ingredients.get('rank')) == int and product_ingredients.get('rank') <= 5:\n",
    "        return True\n",
    "    else:\n",
    "        return False\n",
    "\n",
    "output = filter(rank_filter, product_ingredients)\n",
    "# list(output)"
   ]
  },
  {
   "cell_type": "markdown",
   "id": "77979398",
   "metadata": {},
   "source": [
    "##### Task:\n",
    "\n",
    "Write a function named `filter_irrelevant_ingredients` that takes a list of ingredient objects (dictionaries like the example provided earlier) as input. Your function should filter out any ingredients whose `rank` is not 1, 2, 3, 4, or 5.\n",
    "\n",
    "Here's the function signature for reference. Please do not change the function name, as it is required for autograding. Please test your code thoroughly before submitting the assignment.\n"
   ]
  },
  {
   "cell_type": "code",
   "execution_count": null,
   "id": "87ae4273",
   "metadata": {},
   "outputs": [],
   "source": [
    "def filter_irrelevant_ingredients(product_ingredients):\n",
    "    if type(product_ingredients.get('rank')) == int and product_ingredients.get('rank') <= 5:\n",
    "        return True\n",
    "    else:\n",
    "        return False\n",
    "\n",
    "output = filter(filter_irrelevant_ingredients, product_ingredients)\n",
    "top_ingredients = list(output)\n",
    "# top_ingredients"
   ]
  },
  {
   "cell_type": "markdown",
   "id": "3fb65935",
   "metadata": {},
   "source": [
    "### Question 2. \n",
    "\n",
    "#### Objective:\n",
    "\n",
    "In the second part of the assignment, your task is to remove the \"en:\" prefix from each ingredient's `id` field. This operation is another example of functional programming, similar to the first part of this assignment. Specifically, you will employ the `map` function.\n",
    "\n",
    "#### Background on Functional Programming:\n",
    "\n",
    "The `map` function applies a specified function to each item in an iterable (like a list). For example, if you want to get the first letter of each string in a list, you define a function that takes a single string and return the first letter of that string. You can then apply, or map, this function into the elements of a list. Here is an example.\n",
    "\n",
    "\n"
   ]
  },
  {
   "cell_type": "code",
   "execution_count": null,
   "id": "210ecddd",
   "metadata": {},
   "outputs": [],
   "source": [
    "def get_first_letter(x):\n",
    "    return x[0]\n",
    "\n",
    "some_strings = [\"hi\", \"bye\", \"ok\"]\n",
    "output = map(get_first_letter, some_strings)\n",
    "list(output)  # Output will be ['h', 'b', 'o']"
   ]
  },
  {
   "cell_type": "code",
   "execution_count": null,
   "id": "9fd32c7d-5ffc-4004-b9ec-f32182c4a71d",
   "metadata": {},
   "outputs": [],
   "source": [
    "# Temp task 2\n",
    "\n",
    "def remove_en_prefix(top_ingredients):\n",
    "    top_ingredients['id'] = top_ingredients['id'].removeprefix('en:')\n",
    "    return top_ingredients\n",
    "\n",
    "output = map(remove_en_prefix, top_ingredients)\n",
    "top_ingredients_no_en = list(output)\n",
    "# top_ingredients_no_en"
   ]
  },
  {
   "cell_type": "markdown",
   "id": "ea141446",
   "metadata": {},
   "source": [
    "#### Task:\n",
    "\n",
    "Write a function that removes the \"en:\" prefix from the `id` field of each ingredient in a list. Your function should take a list of ingredients (preferably, the top 5 filtered by the `filter_irrelevant_ingredients` function from question 1 and return a new list of objects where the `id` field of each ingredient is stripped of the \"en:\" prefix.\n",
    "\n",
    "Here's the function signature for reference. Please maintain this function name for autograding purposes. Please test your code to ensure its accuracy before submitting this part of the assignment.\n"
   ]
  },
  {
   "cell_type": "code",
   "execution_count": null,
   "id": "1815414b",
   "metadata": {},
   "outputs": [],
   "source": [
    "def remove_en_prefix(top_ingredients):\n",
    "    top_ingredients['id'] = top_ingredients['id'].removeprefix('en:')\n",
    "    return top_ingredients\n",
    "\n",
    "output = map(remove_en_prefix, top_ingredients)\n",
    "top_ingredients_no_en = list(output)\n",
    "# top_ingredients_no_en"
   ]
  },
  {
   "cell_type": "markdown",
   "id": "269b1515",
   "metadata": {},
   "source": [
    "### Question 3.\n",
    "\n",
    "#### Objective:\n",
    "\n",
    "For the third part of the assignment, you will use functional programming constructs (`map` and `filter`) to create a function named `get_string_row`. This function will take a list of all ingredients (e.g., `product_info['product']['ingredients']`) and produce a string that can be considered a row in a table. This row should contain 12 fields, separated by tabs, in a specific order as detailed below.\n",
    "\n",
    "#### Requirements:\n",
    "\n",
    "Product ID<tab>Product Name<tab>ingredient_1<tab>percentage_ingredient_1<tab> ...\n",
    "\n",
    "The objective is to compine th  `map` and `filter` functions developed above to transform the given product information and ingredients list into a row for a table. This function will aid in the creation of a dataset where each row represents a different product. Note that in addition to the map and filter, you will need to sort the ingredient based on their rank or percentages.\n",
    "\n",
    "For example, after applying all transformations, the product sample might be presented in the table as:\n",
    "\n"
   ]
  },
  {
   "cell_type": "code",
   "execution_count": null,
   "id": "28957ec2",
   "metadata": {},
   "outputs": [],
   "source": [
    "print(\"5060292302201\\tBarbeque Potato Chips\\tpotato\\t54\\tsunflower-oil\\t28.75\\tcoating\\t8.625\\trice-flour\\t4.3125\\tpotato-starch\\t4.3125\")\n"
   ]
  },
  {
   "cell_type": "code",
   "execution_count": null,
   "id": "55b42e2d-e0ac-48fc-95de-5aa62316fc8f",
   "metadata": {},
   "outputs": [],
   "source": [
    "# Temp line extraction\n",
    "\n",
    "lines = []\n",
    "\n",
    "lines.append(product_total['id'])\n",
    "lines.append(product_total['product_name'])\n",
    "\n",
    "for field in top_ingredients_no_en:\n",
    "    line = '\\t'.join([field['id'], str(field['percent_estimate'])])\n",
    "\n",
    "    lines.append(line)\n",
    "\n",
    "    row_t = '\\t'.join(lines)"
   ]
  },
  {
   "cell_type": "code",
   "execution_count": null,
   "id": "3cd1d79e-0633-41e8-9405-e62a4888e72b",
   "metadata": {},
   "outputs": [],
   "source": [
    "print(row_t)"
   ]
  },
  {
   "cell_type": "markdown",
   "id": "4f90e949",
   "metadata": {},
   "source": [
    "\n",
    "#### Task:\n",
    "\n",
    "Write a function called `get_string_row` that takes a list of all ingredients and turns it into a string that represents a row of data, following the requirements and example format above. Please maintain this function name for autograding purposes. Ensure you test your function thoroughly before submitting this portion of the assignment.\n",
    "\n",
    "\n",
    "\n"
   ]
  },
  {
   "cell_type": "code",
   "execution_count": null,
   "id": "fb1caf5b",
   "metadata": {},
   "outputs": [],
   "source": [
    "def get_string_row(product_total):\n",
    "    filter_irrelevant_ingredients(product_ingredients)\n",
    "    remove_en_prefix(top_ingredients)\n",
    "    \n",
    "lines = []\n",
    "\n",
    "lines.append(product_total['id'])\n",
    "lines.append(product_total['product_name'])\n",
    "\n",
    "for field in top_ingredients_no_en:\n",
    "    line = '\\t'.join([field['id'], str(field['percent_estimate'])])\n",
    "\n",
    "    lines.append(line)\n",
    "\n",
    "    row_f = '\\t'.join(lines)"
   ]
  },
  {
   "cell_type": "code",
   "execution_count": null,
   "id": "a32ee1ae-ce13-4509-87ee-480ee893f8b2",
   "metadata": {},
   "outputs": [],
   "source": [
    "print(row_f)"
   ]
  },
  {
   "cell_type": "markdown",
   "id": "e84ecec1",
   "metadata": {},
   "source": [
    "### Question 4\n",
    "\n",
    "For the fourth part of the assignment, your task is to read all the product data available in the file `openfoodfacts-products.json`. For each product in this file, use the `get_string_row` function to generate a row of data as specified in the previous question. Write each of these rows to an output file. \n",
    "\n",
    "#### Requirements:\n",
    "\n",
    "1. Read the `openfoodfacts-products.json` file.\n",
    "2. Parse the 100k first products and generate a row for each, using the `get_string_row` function.\n",
    "3. Write these rows to an output file called `openfoodfacts-products.tsv`. You will need to also push this file to your assignment repository.\n",
    "\n",
    "#### Task:\n",
    "\n",
    "You can use any and all Python libraries you may need, but for simplicity, you may find that using pure Python and the `json` library already imported should suffice. An example snippet for reading each json object is provide below.\n",
    "\n"
   ]
  },
  {
   "cell_type": "code",
   "execution_count": null,
   "id": "001ff6f3",
   "metadata": {},
   "outputs": [],
   "source": [
    "with open('openfoodfacts-products.json', 'r') as f:\n",
    "    products = json.load(f)\n",
    "    # complete code here\n"
   ]
  },
  {
   "cell_type": "markdown",
   "id": "a78946d0",
   "metadata": {},
   "source": [
    "### Question 5. \n",
    "\n",
    "Aren't you curious to know which ingredients are the most common in these products? For the fifth part of the assignment, your task is to parse the table you've generated and count the occurrences of each ingredient.\n",
    "\n",
    "#### Requirements:\n",
    "* Read the output file generated in the previous question.\n",
    "* Count the number of occurrences of each ingredient across all 100k products.\n",
    "* Store the list 5 most prevalent ingredients in a variable called `most_prevalent_ingredients`. Not that names of the ingredients is sufficient. \n",
    "\n",
    "#### Task:\n",
    "Again, you're free to use any Python libraries that can assist you in completing this task, but using just pure Python and the json library should suffice for this purpose. Ensure to run the cell with the assert to make sure that variable contains a list indeed and it have elements"
   ]
  },
  {
   "cell_type": "code",
   "execution_count": null,
   "id": "43a48a37",
   "metadata": {},
   "outputs": [],
   "source": [
    "# do analysis\n",
    "\n",
    "most_prevalent_ingredients = ..."
   ]
  },
  {
   "cell_type": "code",
   "execution_count": null,
   "id": "31398b0e",
   "metadata": {},
   "outputs": [],
   "source": [
    "assert type(most_prevalent_ingredients) == list\n",
    "assert len(most_prevalent_ingredients) == 5"
   ]
  },
  {
   "cell_type": "markdown",
   "id": "f245458c",
   "metadata": {},
   "source": [
    "## PART 2: Implementing a MapReduce Algorithm for Letter Counting\n",
    "\n",
    "### Question 1\n",
    "\n",
    "After introducing a basic MapReduce framework in the class, your task is to write a MapReduce application that converts input text to lower case and counts the occurrences of each letter of the alphabet within a list of strings. This problem is somewhat similar to the word count example, but instead of counting words, you will be counting individual letters.\n",
    "\n",
    "#### Requirements:\n",
    "\n",
    "1. Utilize the SimpleMapReduce class to create a new application for counting letter occurrences. The class code is provided below.\n",
    "2. Implement the `flatMapper` function to map each letter to a key-value pair.\n",
    "3. Implement the `reducer` as needed.\n",
    "4. Use the `post_process` function for any additional operations, like sorting the letters by their occurrences.\n",
    "\n",
    "\n",
    "\n",
    "    "
   ]
  },
  {
   "cell_type": "code",
   "execution_count": 1,
   "id": "332e58f1",
   "metadata": {},
   "outputs": [],
   "source": [
    "from collections import defaultdict\n",
    "from typing import List, Tuple, Iterable, Any\n",
    "\n",
    "class SimpleMapReduce:\n",
    "    \"\"\"\n",
    "    SimpleMapReduce is a minimalistic framework designed to implement \n",
    "    the MapReduce programming model. This class provides the base \n",
    "    functionalities for a MapReduce job, including mapping, shuffling,\n",
    "    and reducing phases.\n",
    "    \n",
    "    Methods:\n",
    "        getData(input_data: List[Any]) -> Iterable[Tuple[int, Any]]:\n",
    "            Enumerates the input data, which can be of any type.\n",
    "        \n",
    "        flatMapper(k1: int, v1: Any) -> Iterable[Tuple[Any, Any]]:\n",
    "            Takes a key-value pair and returns an iterable of key-value pairs.\n",
    "            Must be implemented by subclasses.\n",
    "        \n",
    "        reducer(k2: Any, v2s: Iterable[Any]) -> Tuple[Any, Any]:\n",
    "            Reduces a list of values that share the same key to a single \n",
    "            key-value pair. Must be implemented by subclasses.\n",
    "            \n",
    "        _flatMap(mass_k1v1: Iterable[Tuple[int, Any]]) -> List[Tuple[Any, Any]]:\n",
    "            Helper function that applies the flatMapper function to the input data.\n",
    "        \n",
    "        _shuffle(mapped: List[Tuple[Any, Any]]) -> Iterable[Tuple[Any, List[Any]]]:\n",
    "            Helper function that groups the mapped data by keys.\n",
    "            \n",
    "        _reduce(mass_k2v2s: Iterable[Tuple[Any, List[Any]]]) -> List[Tuple[Any, Any]]:\n",
    "            Helper function that applies the reducer function to the shuffled data.\n",
    "        \n",
    "        _run(input_data: List[Any]) -> List[Tuple[Any, Any]]:\n",
    "            Executes the MapReduce job in the order of mapping, shuffling, and reducing.\n",
    "            \n",
    "    To use this class, you must subclass it and implement the flatMapper and \n",
    "    reducer methods.\n",
    "    \"\"\"\n",
    "\n",
    "    \n",
    "    @staticmethod\n",
    "    def getData(input_data: List[Any]) -> Iterable[Tuple[int, Any]]:\n",
    "        return enumerate(input_data)\n",
    "    \n",
    "    @staticmethod\n",
    "    def flatMapper(k1: int, v1: Any) -> Iterable[Tuple[Any, Any]]:\n",
    "        raise NotImplementedError()\n",
    "        \n",
    "    @staticmethod\n",
    "    def reducer(k2: Any, v2s: Iterable[Any]) -> Tuple[Any, Any]:\n",
    "        raise NotImplementedError()\n",
    "    \n",
    "    @classmethod\n",
    "    def _flatMap(cls, mass_k1v1: Iterable[Tuple[int, Any]]) -> List[Tuple[Any, Any]]:\n",
    "        output = []\n",
    "        for k1, v1 in mass_k1v1:\n",
    "            for k2, v2 in cls.flatMapper(k1, v1):\n",
    "                output.append((k2, v2))\n",
    "        return output\n",
    "    \n",
    "    @classmethod\n",
    "    def _shuffle(cls, mapped: List[Tuple[Any, Any]]) -> Iterable[Tuple[Any, List[Any]]]:\n",
    "        d = defaultdict(list)\n",
    "        for k2, v2 in mapped:\n",
    "            d[k2].append(v2)\n",
    "        return d.items()\n",
    "    \n",
    "    @classmethod\n",
    "    def _reduce(cls, mass_k2v2s: Iterable[Tuple[Any, List[Any]]]) -> List[Tuple[Any, Any]]:\n",
    "        output = []\n",
    "        for k2, v2s in mass_k2v2s:\n",
    "            output.append(cls.reducer(k2, v2s))\n",
    "        return output\n",
    "    \n",
    "    @classmethod\n",
    "    def _run(cls, input_data: List[Any]) -> List[Tuple[Any, Any]]:\n",
    "        # Load data\n",
    "        data = cls.getData(input_data)\n",
    "        \n",
    "        # Map\n",
    "        mapped = cls._flatMap(data)\n",
    "        \n",
    "        # Shuffle\n",
    "        shuffled = cls._shuffle(mapped)\n",
    "        \n",
    "        # Reduce\n",
    "        reduced = cls._reduce(shuffled)\n",
    "        \n",
    "        return reduced"
   ]
  },
  {
   "cell_type": "markdown",
   "id": "3153bfda",
   "metadata": {},
   "source": [
    "#### Task:\n",
    "\n",
    "- Implement your code in the scaffold below. \n",
    "\n",
    "- The reducer function should return a dictionary with the counts of each letter after converitng the input to lower-case. Ensure that you test your code using asserts provided, which test that the type of the object retured is a dictionary, and the the counts matches what would be expected for a simple test case.\n",
    "\n",
    "\n",
    "* Optional (not-graded): use the post_process method to sort the letters based on their occurrence counts. For example, if `_run`  output is \n",
    "`{'h': 2, 'e': 3, 'l': 2, 'o': 1, 't': 1, 'r': 1}`\n",
    "`post_process` would return:\n",
    "`[('e', 3), ('h', 2), ('l', 2), ('o', 1), ('r', 1), ('t': 1)]`"
   ]
  },
  {
   "cell_type": "code",
   "execution_count": null,
   "id": "96c96e7e-28d2-4914-985e-f92a9172ee18",
   "metadata": {},
   "outputs": [],
   "source": [
    "# Temp\n",
    "t1 = ['hello']\n",
    "\n",
    "t2 = t1.pop()\n",
    "list(t2)"
   ]
  },
  {
   "cell_type": "code",
   "execution_count": 2,
   "id": "75109a8b",
   "metadata": {},
   "outputs": [],
   "source": [
    "# Working correctly!\n",
    "\n",
    "class LetterCountMapReduce(SimpleMapReduce):\n",
    "\n",
    "    @staticmethod\n",
    "    def flatMapper(k1: int, v1: str) -> Iterable[Tuple[str, int]]:\n",
    "        words = v1.split()\n",
    "        stp = words.pop()\n",
    "        for c in stp:\n",
    "            yield (c.lower(), 1)\n",
    "\n",
    "    @staticmethod\n",
    "    def reducer(k2: str, v2s: List[int]) -> Tuple[str, int]:\n",
    "        return k2, sum(v2s)\n",
    "    \n",
    "    @classmethod\n",
    "    def post_process():\n",
    "        pass"
   ]
  },
  {
   "cell_type": "code",
   "execution_count": 3,
   "id": "c8757ea8-4f12-4275-a49e-f551640dc053",
   "metadata": {},
   "outputs": [],
   "source": [
    "input_data = [\"Hello\", \"There\"]\n",
    "my_sample_data = LetterCountMapReduce.getData(input_data)"
   ]
  },
  {
   "cell_type": "code",
   "execution_count": 4,
   "id": "a0fc84c0-1ed2-4252-b3c3-98f28829c499",
   "metadata": {},
   "outputs": [
    {
     "data": {
      "text/plain": [
       "[(0, 'Hello'), (1, 'There')]"
      ]
     },
     "execution_count": 4,
     "metadata": {},
     "output_type": "execute_result"
    }
   ],
   "source": [
    "list(my_sample_data)"
   ]
  },
  {
   "cell_type": "code",
   "execution_count": 5,
   "id": "7f68fcf7-52e2-41e1-a232-8d22265cbf48",
   "metadata": {},
   "outputs": [
    {
     "name": "stdout",
     "output_type": "stream",
     "text": [
      "[('h', 1), ('e', 1), ('l', 1), ('l', 1), ('o', 1), ('t', 1), ('h', 1), ('e', 1), ('r', 1), ('e', 1)]\n"
     ]
    }
   ],
   "source": [
    "my_sample_data = LetterCountMapReduce.getData(input_data)\n",
    "my_sample_data_mapped = LetterCountMapReduce._flatMap(my_sample_data)\n",
    "print(my_sample_data_mapped)"
   ]
  },
  {
   "cell_type": "code",
   "execution_count": 6,
   "id": "8b63ccde-a400-4a05-a41b-0139ebc493cd",
   "metadata": {},
   "outputs": [
    {
     "data": {
      "text/plain": [
       "dict_items([('h', [1, 1]), ('e', [1, 1, 1]), ('l', [1, 1]), ('o', [1]), ('t', [1]), ('r', [1])])"
      ]
     },
     "execution_count": 6,
     "metadata": {},
     "output_type": "execute_result"
    }
   ],
   "source": [
    "my_sample_data_mapped_shuffled =  LetterCountMapReduce._shuffle(my_sample_data_mapped)\n",
    "my_sample_data_mapped_shuffled"
   ]
  },
  {
   "cell_type": "code",
   "execution_count": 7,
   "id": "258944de-c4af-4422-bf01-710db592757c",
   "metadata": {},
   "outputs": [
    {
     "data": {
      "text/plain": [
       "[('h', 2), ('e', 3), ('l', 2), ('o', 1), ('t', 1), ('r', 1)]"
      ]
     },
     "execution_count": 7,
     "metadata": {},
     "output_type": "execute_result"
    }
   ],
   "source": [
    "LetterCountMapReduce._reduce(my_sample_data_mapped_shuffled)"
   ]
  },
  {
   "cell_type": "code",
   "execution_count": 8,
   "id": "2345b877-1913-4fd1-ba88-0125553c554b",
   "metadata": {},
   "outputs": [
    {
     "data": {
      "text/plain": [
       "[('h', 2), ('e', 3), ('l', 2), ('o', 1), ('t', 1), ('r', 1)]"
      ]
     },
     "execution_count": 8,
     "metadata": {},
     "output_type": "execute_result"
    }
   ],
   "source": [
    "input_data = [\"Hello\", \"There\"]\n",
    "LetterCountMapReduce._run(input_data)"
   ]
  },
  {
   "cell_type": "code",
   "execution_count": 9,
   "id": "038b4e65",
   "metadata": {},
   "outputs": [],
   "source": [
    "input_data = [\"Hello\", \"There\"]\n",
    "correct_output = [('h', 2), ('e', 3), ('l', 2), ('o', 1), ('t', 1), ('r', 1)]\n",
    "output = LetterCountMapReduce._run(input_data)\n",
    "assert output == correct_output\n",
    "assert type(output) == list"
   ]
  },
  {
   "cell_type": "code",
   "execution_count": null,
   "id": "b21c11cc-aac0-4144-ad5d-d49bedc85e3e",
   "metadata": {},
   "outputs": [],
   "source": []
  }
 ],
 "metadata": {
  "kernelspec": {
   "display_name": "Python 3 (ipykernel)",
   "language": "python",
   "name": "python3"
  },
  "language_info": {
   "codemirror_mode": {
    "name": "ipython",
    "version": 3
   },
   "file_extension": ".py",
   "mimetype": "text/x-python",
   "name": "python",
   "nbconvert_exporter": "python",
   "pygments_lexer": "ipython3",
   "version": "3.10.6"
  }
 },
 "nbformat": 4,
 "nbformat_minor": 5
}
