{
 "cells": [
  {
   "cell_type": "markdown",
   "id": "d182e6a6-2b7a-4c3c-92ca-31c530156eae",
   "metadata": {},
   "source": [
    "\n",
    "## Arrow and Parquet Files: Answers to Bonus Questions, Thomas (Mark) McCamley \n",
    "\n",
    "* Data source: New York City Taxi and Limousine Commission (TLC), month of January 2009."
   ]
  },
  {
   "cell_type": "code",
   "execution_count": 20,
   "id": "808ad88f-6c6e-48a7-a1f0-9b92aaa89b30",
   "metadata": {},
   "outputs": [
    {
     "data": {
      "text/plain": [
       "['ursa-labs-taxi-data/2009/01/data.parquet',\n",
       " 'ursa-labs-taxi-data/2009/02/data.parquet',\n",
       " 'ursa-labs-taxi-data/2009/03/data.parquet',\n",
       " 'ursa-labs-taxi-data/2009/04/data.parquet',\n",
       " 'ursa-labs-taxi-data/2009/05/data.parquet',\n",
       " 'ursa-labs-taxi-data/2009/06/data.parquet',\n",
       " 'ursa-labs-taxi-data/2009/07/data.parquet',\n",
       " 'ursa-labs-taxi-data/2009/08/data.parquet',\n",
       " 'ursa-labs-taxi-data/2009/09/data.parquet',\n",
       " 'ursa-labs-taxi-data/2009/10/data.parquet',\n",
       " 'ursa-labs-taxi-data/2009/11/data.parquet',\n",
       " 'ursa-labs-taxi-data/2009/12/data.parquet']"
      ]
     },
     "execution_count": 20,
     "metadata": {},
     "output_type": "execute_result"
    }
   ],
   "source": [
    "# Load the resources we need, download the data, which is in parquet file format\n",
    "\n",
    "import pyarrow as pa \n",
    "import pyarrow.compute as pc\n",
    "import pyarrow.parquet as pq\n",
    "dataset = pq.ParquetDataset('s3://ursa-labs-taxi-data/2009/', partitioning=[\"month\"])\n",
    "dataset.files"
   ]
  },
  {
   "cell_type": "code",
   "execution_count": 21,
   "id": "20195308-22fc-45d1-8802-5c5adc5ec076",
   "metadata": {},
   "outputs": [],
   "source": [
    "# Create a table with the single month of Janaury file, sort the \"pickup_at\" and \"fare_amount\" columns, creating a sorted index object\n",
    "# Really only need \"pickup_at\" sorted though\n",
    "\n",
    "data_table = dataset.fragments[0].to_table()\n",
    "sorted_indices = pc.sort_indices(data_table, sort_keys=[(\"pickup_at\", \"ascending\"), (\"fare_amount\", \"ascending\")])"
   ]
  },
  {
   "cell_type": "code",
   "execution_count": 22,
   "id": "6b32dd12-f29d-47c2-85a3-ff641f6ab5bf",
   "metadata": {
    "editable": true,
    "slideshow": {
     "slide_type": ""
    },
    "tags": []
   },
   "outputs": [],
   "source": [
    "# Apply the index object to the table to effect the sorting\n",
    "\n",
    "sorted_table = data_table.take(sorted_indices)"
   ]
  },
  {
   "cell_type": "code",
   "execution_count": 23,
   "id": "a9e1860a-0d9d-4528-8fff-8ebc07594230",
   "metadata": {},
   "outputs": [
    {
     "data": {
      "text/plain": [
       "pyarrow.Table\n",
       "vendor_id: string\n",
       "pickup_at: timestamp[us]\n",
       "dropoff_at: timestamp[us]\n",
       "passenger_count: int8\n",
       "trip_distance: float\n",
       "pickup_longitude: float\n",
       "pickup_latitude: float\n",
       "rate_code_id: null\n",
       "store_and_fwd_flag: string\n",
       "dropoff_longitude: float\n",
       "dropoff_latitude: float\n",
       "payment_type: string\n",
       "fare_amount: float\n",
       "extra: float\n",
       "mta_tax: float\n",
       "tip_amount: float\n",
       "tolls_amount: float\n",
       "total_amount: float\n",
       "----\n",
       "vendor_id: [[\"CMT\",\"CMT\",\"CMT\",\"CMT\",\"CMT\",...,\"CMT\",\"CMT\",\"CMT\",\"CMT\",\"CMT\"]]\n",
       "pickup_at: [[2009-01-01 00:00:00.000000,2009-01-01 00:00:00.000000,2009-01-01 00:00:02.000000,2009-01-01 00:00:04.000000,2009-01-01 00:00:07.000000,...,2009-01-31 23:59:59.000000,2009-01-31 23:59:59.000000,2009-01-31 23:59:59.000000,2009-01-31 23:59:59.000000,2009-01-31 23:59:59.000000]]\n",
       "dropoff_at: [[2009-01-01 00:05:03.000000,2009-01-01 00:04:12.000000,2009-01-01 00:05:40.000000,2009-01-01 00:03:08.000000,2009-01-01 00:19:01.000000,...,2009-02-01 00:07:04.000000,2009-02-01 00:06:17.000000,2009-02-01 00:11:54.000000,2009-02-01 00:18:39.000000,2009-02-01 00:26:59.000000]]\n",
       "passenger_count: [[2,1,1,1,1,...,1,3,2,1,1]]\n",
       "trip_distance: [[0.9,1.3,1,0.8,5.5,...,1.4,1.8,2,1.3,3]]\n",
       "pickup_longitude: [[-73.99748,-73.96592,-73.9648,-74.0116,-74.00065,...,-73.977516,-73.97359,-73.99234,-73.98368,-73.95755]]\n",
       "pickup_latitude: [[40.725952,40.771244,40.76739,40.70883,40.71858,...,40.753094,40.792377,40.742203,40.737823,40.76994]]\n",
       "rate_code_id: [14092413 nulls]\n",
       "store_and_fwd_flag: [[null,null,null,null,null,...,null,null,null,null,null]]\n",
       "dropoff_longitude: [[-74.005936,-73.94961,-73.97775,-74.013466,-73.94458,...,-73.98275,-73.98209,-73.984436,-73.98668,-73.98916]]\n",
       "..."
      ]
     },
     "execution_count": 23,
     "metadata": {},
     "output_type": "execute_result"
    }
   ],
   "source": [
    "# As shown below, the sorting is doing what we want with the \"pickup_at\" timestamp, but two of the three questions are in\n",
    "# terms of the hour of the day: Can you get the average transaction between 2:00-2:59 PM, and\n",
    "# Which time of the day has the highest tip?\n",
    "\n",
    "sorted_table"
   ]
  },
  {
   "cell_type": "code",
   "execution_count": 24,
   "id": "fe4a46c1-a1ce-4dee-b3f9-274eea3d5a8e",
   "metadata": {},
   "outputs": [],
   "source": [
    "# To answer these, we'll truncate the timestamp to just hours and minutes so we can isolate single hour blocks,\n",
    "# and apply it to the table we created to get the new_sorted_table to create new_sorted_table\n",
    "\n",
    "hour_time = pc.strftime(sorted_table.column(\"pickup_at\"), format='%H:%M')\n",
    "new_sorted_table = sorted_table.set_column(1, \"pickup_hour\", hour_time)"
   ]
  },
  {
   "cell_type": "code",
   "execution_count": 25,
   "id": "acb5db98-8bdf-4c69-8c7d-6c5a434b1a00",
   "metadata": {
    "scrolled": true
   },
   "outputs": [
    {
     "data": {
      "text/plain": [
       "pyarrow.Table\n",
       "vendor_id: string\n",
       "pickup_hour: string\n",
       "dropoff_at: timestamp[us]\n",
       "passenger_count: int8\n",
       "trip_distance: float\n",
       "pickup_longitude: float\n",
       "pickup_latitude: float\n",
       "rate_code_id: null\n",
       "store_and_fwd_flag: string\n",
       "dropoff_longitude: float\n",
       "dropoff_latitude: float\n",
       "payment_type: string\n",
       "fare_amount: float\n",
       "extra: float\n",
       "mta_tax: float\n",
       "tip_amount: float\n",
       "tolls_amount: float\n",
       "total_amount: float\n",
       "----\n",
       "vendor_id: [[\"VTS\",\"VTS\",\"VTS\",\"VTS\",\"VTS\",...,\"CMT\",\"DDS\",\"CMT\",\"CMT\",\"CMT\"]]\n",
       "pickup_hour: [[\"14:00\",\"14:00\",\"14:00\",\"14:00\",\"14:00\",...,\"14:59\",\"14:59\",\"14:59\",\"14:59\",\"14:59\"]]\n",
       "dropoff_at: [[2009-01-01 14:00:00.000000,2009-01-01 14:02:00.000000,2009-01-01 14:02:00.000000,2009-01-01 14:02:00.000000,2009-01-01 14:03:00.000000,...,2009-01-31 15:05:38.000000,2009-01-31 15:09:39.000000,2009-01-31 15:06:31.000000,2009-01-31 15:17:52.000000,2009-01-31 15:21:42.000000]]\n",
       "passenger_count: [[1,2,5,5,2,...,1,1,1,2,1]]\n",
       "trip_distance: [[0.04,0.25,0.64,0.6,0.48,...,1.3,1.1,1.6,1.9,3.5]]\n",
       "pickup_longitude: [[-73.883484,-73.981514,-73.99134,-73.98,-73.983505,...,-73.96112,-73.982155,-73.98516,-74.004005,-73.9866]]\n",
       "pickup_latitude: [[40.85385,40.749752,40.740116,40.74307,40.72619,...,40.760742,40.762703,40.768402,40.725597,40.751354]]\n",
       "rate_code_id: [702784 nulls]\n",
       "store_and_fwd_flag: [[null,null,null,null,null,...,null,null,null,null,null]]\n",
       "dropoff_longitude: [[-73.88375,-73.978836,-73.99668,-73.98185,-73.97757,...,-73.94782,-73.962776,-73.978096,-73.97829,-73.967354]]\n",
       "..."
      ]
     },
     "execution_count": 25,
     "metadata": {},
     "output_type": "execute_result"
    }
   ],
   "source": [
    "# Now we can easily filter this table by hour blocks.  We'll start with 2:00PM - 2:59PM to answer the first question\n",
    "\n",
    "h_slot = pc.and_(pc.greater_equal(hour_time,'14:00'), pc.less(hour_time, '15:00'))\n",
    "hour_table = pc.filter(new_sorted_table, h_slot)\n",
    "hour_table"
   ]
  },
  {
   "cell_type": "markdown",
   "id": "1b1d65d4-11c6-4bc3-a9f2-14e66d99aee5",
   "metadata": {},
   "source": [
    "### Answer to Bonus Question: Can you get the average transaction between 2:00-2:59 PM?\n",
    "\n",
    "##### Initially thought that this only referred to fare amount, but since the word \"transaction\" is used, which implies inclusivity of all charges, I will go with \"total_amount\""
   ]
  },
  {
   "cell_type": "code",
   "execution_count": 26,
   "id": "75782b20-7921-4e0b-b270-397f92c9fa54",
   "metadata": {},
   "outputs": [
    {
     "name": "stdout",
     "output_type": "stream",
     "text": [
      "Answer: the average transaction between 2:00-2:59PM is $10.01\n"
     ]
    }
   ],
   "source": [
    "ave_two_pm = pc.round(pc.mean(hour_table['total_amount']), ndigits=2)\n",
    "print(f\"Answer: the average transaction between 2:00-2:59PM is ${ave_two_pm}\")"
   ]
  },
  {
   "cell_type": "markdown",
   "id": "7a038729-8ad9-43ba-b730-b5e28be15b51",
   "metadata": {},
   "source": [
    "### Answer to Bonus Question: Which time of the day has the highest tip (compute the max value of tip over hourly sections)?"
   ]
  },
  {
   "cell_type": "markdown",
   "id": "b43a36de-bb41-4395-880e-deccfd5985d3",
   "metadata": {},
   "source": [
    "* I interpret this to be asking \"what is the highest instance of a tip in each hour slot\".  First, the long and complete way"
   ]
  },
  {
   "cell_type": "code",
   "execution_count": 27,
   "id": "ae32ba11-b1d8-41a1-8ed5-814d4ec908b3",
   "metadata": {},
   "outputs": [],
   "source": [
    "# To compute by hourly sections (via for loop), I only know how to run it using the string tuple list below - clumsy and ugly ;(\n",
    "# The for loop uses compute logic and values to capture hour start (inclusive), through the 59th minute\n",
    "\n",
    "hours = [('00:00','01:00'),('01:00','02:00'),('02:00','03:00'),('03:00','04:00'),('04:00','05:00'),('05:00','06:00'),('06:00','07:00'),('07:00','08:00'),('08:00','09:00'),('09:00','10:00'),('10:00','11:00'),('11:00','12:00'),('12:00','13:00'),('13:00','14:00'),('14:00','15:00'),('15:00','16:00'),('16:00','17:00'),('17:00','18:00'),('18:00','19:00'),('19:00','20:00'),('20:00','21:00'),('21:00','22:00'),('22:00','23:00'),('23:00','23:59')]"
   ]
  },
  {
   "cell_type": "code",
   "execution_count": 28,
   "id": "ad706d21-ae0d-4973-af49-20e37d2b042d",
   "metadata": {},
   "outputs": [
    {
     "name": "stdout",
     "output_type": "stream",
     "text": [
      "Hour beginning 00:00 has highest instance of tip amount = $100.0\n",
      "Hour beginning 01:00 has highest instance of tip amount = $95.44999694824219\n",
      "Hour beginning 02:00 has highest instance of tip amount = $100.0\n",
      "Hour beginning 03:00 has highest instance of tip amount = $90.0\n",
      "Hour beginning 04:00 has highest instance of tip amount = $90.44999694824219\n",
      "Hour beginning 05:00 has highest instance of tip amount = $90.0\n",
      "Hour beginning 06:00 has highest instance of tip amount = $80.0\n",
      "Hour beginning 07:00 has highest instance of tip amount = $100.0\n",
      "Hour beginning 08:00 has highest instance of tip amount = $83.0\n",
      "Hour beginning 09:00 has highest instance of tip amount = $89.0\n",
      "Hour beginning 10:00 has highest instance of tip amount = $81.5\n",
      "Hour beginning 11:00 has highest instance of tip amount = $100.0\n",
      "Hour beginning 12:00 has highest instance of tip amount = $100.0\n",
      "Hour beginning 13:00 has highest instance of tip amount = $100.0\n",
      "Hour beginning 14:00 has highest instance of tip amount = $100.0\n",
      "Hour beginning 15:00 has highest instance of tip amount = $98.76000213623047\n",
      "Hour beginning 16:00 has highest instance of tip amount = $100.0\n",
      "Hour beginning 17:00 has highest instance of tip amount = $80.80000305175781\n",
      "Hour beginning 18:00 has highest instance of tip amount = $75.0\n",
      "Hour beginning 19:00 has highest instance of tip amount = $100.0\n",
      "Hour beginning 20:00 has highest instance of tip amount = $100.0\n",
      "Hour beginning 21:00 has highest instance of tip amount = $100.0\n",
      "Hour beginning 22:00 has highest instance of tip amount = $96.0\n",
      "Hour beginning 23:00 has highest instance of tip amount = $91.0\n"
     ]
    }
   ],
   "source": [
    "# The for loop, which filters our table for each hour section, finds the max instance of tip amount in that hour, and then prints for inspection\n",
    "\n",
    "for j, k in hours:\n",
    "    h_slot = pc.and_(pc.greater_equal(hour_time,(j)), pc.less(hour_time, (k)))\n",
    "    hours_table = pc.filter(new_sorted_table, h_slot)\n",
    "    top_tip = pc.max(hours_table['tip_amount'])\n",
    "    print(f\"Hour beginning {j} has highest instance of tip amount = ${top_tip}\")"
   ]
  },
  {
   "cell_type": "markdown",
   "id": "e1c65c9e-7105-480d-bb6d-88c57b2db7c4",
   "metadata": {},
   "source": [
    "##### The highest tip amount of $100 occured in 11 \"pick_up\" hour slots during the month.  The hundred dollar bill is apparently the max tip vehicle of choice in NYC."
   ]
  },
  {
   "cell_type": "markdown",
   "id": "00ac5ace-b96c-47fd-81e7-0218fe77aced",
   "metadata": {},
   "source": [
    "* Now a quicker easier way that shows the number of instances (frequency) of the max value tip over the month, by hour slot"
   ]
  },
  {
   "cell_type": "code",
   "execution_count": 29,
   "id": "ea0a8090-47d5-4597-bab0-a9ceb9f89a2d",
   "metadata": {},
   "outputs": [
    {
     "name": "stdout",
     "output_type": "stream",
     "text": [
      "The highest tip amount in the month is $100.0\n"
     ]
    }
   ],
   "source": [
    "# First find the highest tip amount ...\n",
    "\n",
    "highest = pc.max(new_sorted_table['tip_amount'])\n",
    "print(f\"The highest tip amount in the month is ${highest}\")"
   ]
  },
  {
   "cell_type": "code",
   "execution_count": 30,
   "id": "dd352024-a839-4678-8ddd-d79d4e314ae2",
   "metadata": {},
   "outputs": [
    {
     "data": {
      "text/plain": [
       "0     00:13\n",
       "12    00:59\n",
       "13    02:57\n",
       "3     07:43\n",
       "2     11:16\n",
       "5     12:18\n",
       "9     13:38\n",
       "4     14:19\n",
       "10    16:39\n",
       "6     19:48\n",
       "11    20:55\n",
       "1     21:10\n",
       "7     21:14\n",
       "8     21:34\n",
       "Name: pickup_hour, dtype: object"
      ]
     },
     "execution_count": 30,
     "metadata": {},
     "output_type": "execute_result"
    }
   ],
   "source": [
    "# ... then find which \"pickup_hour\" slot(s) in which it occurs\n",
    "\n",
    "max_tip = pc.equal(new_sorted_table['tip_amount'], 100.0)\n",
    "tip_table = pc.filter(new_sorted_table, max_tip)\n",
    "\n",
    "# Let's put tip_table into a pandas series and sort\n",
    "\n",
    "top_tip = tip_table['pickup_hour'].to_pandas()\n",
    "top_tip.sort_values(ascending=True)"
   ]
  },
  {
   "cell_type": "markdown",
   "id": "e76f2052-58cc-497f-b4b3-3829b885ba40",
   "metadata": {},
   "source": [
    "##### The highest frequency of the max tip amount of $100 occured in the hour slots between 9:00PM and 3:00AM in the morning, so the taxi graveyard shift sees more max value tips."
   ]
  },
  {
   "cell_type": "markdown",
   "id": "072aefe3-9e33-4a50-a2d5-cea4af4b48c0",
   "metadata": {},
   "source": [
    "### Answer to Bonus Question: Which day of the week has the highest average tip amount?"
   ]
  },
  {
   "cell_type": "code",
   "execution_count": 31,
   "id": "a9604bc5-8af7-4777-b8a9-31128a5d865f",
   "metadata": {},
   "outputs": [
    {
     "data": {
      "text/plain": [
       "pyarrow.Table\n",
       "vendor_id: string\n",
       "pickup_at: int64\n",
       "dropoff_at: timestamp[us]\n",
       "passenger_count: int8\n",
       "trip_distance: float\n",
       "pickup_longitude: float\n",
       "pickup_latitude: float\n",
       "rate_code_id: null\n",
       "store_and_fwd_flag: string\n",
       "dropoff_longitude: float\n",
       "dropoff_latitude: float\n",
       "payment_type: string\n",
       "fare_amount: float\n",
       "extra: float\n",
       "mta_tax: float\n",
       "tip_amount: float\n",
       "tolls_amount: float\n",
       "total_amount: float\n",
       "----\n",
       "vendor_id: [[\"CMT\",\"CMT\",\"CMT\",\"CMT\",\"CMT\",...,\"CMT\",\"CMT\",\"CMT\",\"CMT\",\"CMT\"]]\n",
       "pickup_at: [[4,4,4,4,4,...,6,6,6,6,6]]\n",
       "dropoff_at: [[2009-01-01 00:05:03.000000,2009-01-01 00:04:12.000000,2009-01-01 00:05:40.000000,2009-01-01 00:03:08.000000,2009-01-01 00:19:01.000000,...,2009-02-01 00:07:04.000000,2009-02-01 00:06:17.000000,2009-02-01 00:11:54.000000,2009-02-01 00:18:39.000000,2009-02-01 00:26:59.000000]]\n",
       "passenger_count: [[2,1,1,1,1,...,1,3,2,1,1]]\n",
       "trip_distance: [[0.9,1.3,1,0.8,5.5,...,1.4,1.8,2,1.3,3]]\n",
       "pickup_longitude: [[-73.99748,-73.96592,-73.9648,-74.0116,-74.00065,...,-73.977516,-73.97359,-73.99234,-73.98368,-73.95755]]\n",
       "pickup_latitude: [[40.725952,40.771244,40.76739,40.70883,40.71858,...,40.753094,40.792377,40.742203,40.737823,40.76994]]\n",
       "rate_code_id: [14092413 nulls]\n",
       "store_and_fwd_flag: [[null,null,null,null,null,...,null,null,null,null,null]]\n",
       "dropoff_longitude: [[-74.005936,-73.94961,-73.97775,-74.013466,-73.94458,...,-73.98275,-73.98209,-73.984436,-73.98668,-73.98916]]\n",
       "..."
      ]
     },
     "execution_count": 31,
     "metadata": {},
     "output_type": "execute_result"
    }
   ],
   "source": [
    "# Let's go back to our original sorted_table, and convert the original timestamp of \"pickup_at\" to just the day of the week\n",
    "# First, compute the days of the week as an arrow array from the original timestamps\n",
    "# The code below sets Monday as the first day of the week.  In 2009, January 1 was a Thursday, so our days shown below start on 4,\n",
    "# and end on 6, Saturday, the 31st\n",
    "\n",
    "dow = pa.compute.day_of_week(sorted_table.column(\"pickup_at\"), count_from_zero=False, week_start=1, options=None, memory_pool=None)\n",
    "\n",
    "# Set the values of the \"pickup_at\" column according to the array, and name a new table\n",
    "\n",
    "d_new_sorted_table = sorted_table.set_column(1, \"pickup_at\", dow)\n",
    "d_new_sorted_table"
   ]
  },
  {
   "cell_type": "code",
   "execution_count": 32,
   "id": "dacf46a5-49b0-4f52-bd59-d295cabb1b3c",
   "metadata": {},
   "outputs": [
    {
     "name": "stdout",
     "output_type": "stream",
     "text": [
      "Day of the week 1 has mean tip amount = $0.47\n",
      "Day of the week 2 has mean tip amount = $0.48\n",
      "Day of the week 3 has mean tip amount = $0.5\n",
      "Day of the week 4 has mean tip amount = $0.48\n",
      "Day of the week 5 has mean tip amount = $0.46\n",
      "Day of the week 6 has mean tip amount = $0.41\n",
      "Day of the week 7 has mean tip amount = $0.46\n"
     ]
    }
   ],
   "source": [
    "# Now we can run the same type of loop on the new table, now filtered by the day of the week\n",
    "\n",
    "day_of_week = range(1, 8, 1)\n",
    "\n",
    "for i in day_of_week:\n",
    "    day = pc.equal(dow,(i))\n",
    "    day_table = pc.filter(d_new_sorted_table, day)\n",
    "    mean_tip = pc.round(pc.mean(day_table['tip_amount']), ndigits=2)\n",
    "    print(f\"Day of the week {i} has mean tip amount = ${mean_tip}\")"
   ]
  },
  {
   "cell_type": "markdown",
   "id": "83556db2-cf1a-4d65-ae1a-9bef683e2e1f",
   "metadata": {},
   "source": [
    "##### The highest average tip is on Wednesday, but the day with the highest total tips (sum), by far, is Friday, see below."
   ]
  },
  {
   "cell_type": "code",
   "execution_count": 33,
   "id": "cd58e2f0-f655-44f6-97da-b031b3f0eb1e",
   "metadata": {},
   "outputs": [
    {
     "name": "stdout",
     "output_type": "stream",
     "text": [
      "Day of the week 1 has total tips which sum to = $742213.66\n",
      "Day of the week 2 has total tips which sum to = $852811.21\n",
      "Day of the week 3 has total tips which sum to = $891423.74\n",
      "Day of the week 4 has total tips which sum to = $1102847.63\n",
      "Day of the week 5 has total tips which sum to = $1142126.72\n",
      "Day of the week 6 has total tips which sum to = $1036218.4\n",
      "Day of the week 7 has total tips which sum to = $768644.85\n"
     ]
    }
   ],
   "source": [
    "for i in day_of_week:\n",
    "    day = pc.equal(dow,(i))\n",
    "    day_table = pc.filter(d_new_sorted_table, day)\n",
    "    sum_tip = pc.round(pc.sum(day_table['tip_amount']), ndigits=2)\n",
    "    print(f\"Day of the week {i} has total tips which sum to = ${sum_tip}\")"
   ]
  },
  {
   "cell_type": "code",
   "execution_count": null,
   "id": "20db76be-e7b9-43d6-9df1-0af4e5a1bcd2",
   "metadata": {},
   "outputs": [],
   "source": []
  }
 ],
 "metadata": {
  "kernelspec": {
   "display_name": "Python 3 (ipykernel)",
   "language": "python",
   "name": "python3"
  },
  "language_info": {
   "codemirror_mode": {
    "name": "ipython",
    "version": 3
   },
   "file_extension": ".py",
   "mimetype": "text/x-python",
   "name": "python",
   "nbconvert_exporter": "python",
   "pygments_lexer": "ipython3",
   "version": "3.10.6"
  }
 },
 "nbformat": 4,
 "nbformat_minor": 5
}
